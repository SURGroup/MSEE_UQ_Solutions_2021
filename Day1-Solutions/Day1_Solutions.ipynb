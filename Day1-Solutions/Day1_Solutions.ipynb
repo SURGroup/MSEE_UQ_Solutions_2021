{
 "cells": [
  {
   "cell_type": "markdown",
   "metadata": {
    "slideshow": {
     "slide_type": "slide"
    }
   },
   "source": [
    "# MSEE UQ short course:  The $\\texttt{UQpy}$ library\n",
    "\n",
    "Application of forward UQ using the $\\texttt{UQpy}$ modules $\\texttt{RunModel}, \\texttt{Distributions}$ and $\\texttt{SampleMethods}$.\n",
    "\n",
    "Detailed instructions on how to use these modules can be found in the $\\texttt{UQpy}$ documentation.\n",
    "\n",
    "\n",
    "https://uqpyproject.readthedocs.io/en/latest/runmodel_doc.html\n",
    "\n",
    "https://uqpyproject.readthedocs.io/en/latest/distributions_doc.html\n",
    "\n",
    "https://uqpyproject.readthedocs.io/en/latest/samplemethods_doc.html"
   ]
  },
  {
   "cell_type": "code",
   "execution_count": null,
   "metadata": {},
   "outputs": [],
   "source": [
    "import numpy as np\n",
    "from model import boucwen"
   ]
  },
  {
   "cell_type": "markdown",
   "metadata": {},
   "source": [
    "# Exercise 1 \n",
    "\n",
    "\n",
    "## Linking a $\\texttt{Python}$ computational model with $\\texttt{UQpy}$\n",
    "\n",
    "The model consists in a highly nonlinear single degree of freedom system represented by a Bouc-Wen model of hysteresis:\n",
    "\n",
    "   \\begin{align*}\n",
    "    & m \\ddot{z}(t) + k r(t) = - \\ddot{u}(t) \\\\\n",
    "    & \\dot{r}(t) = \\dot{z} - \\beta \\vert\\dot{z}(t)\\vert \\vert r(t) \\vert^{2} r(t) - \\gamma \\dot{z}(t) \\vert r(t) \\vert^{3}\n",
    "   \\end{align*}\n",
    "\n",
    "where $\\ddot{u}(t)$ is the ground motion exciting the system. The Bouc-Wen model of hysteresis is parameterized by stiffness $k$, parameter $r_{0}=\\sqrt[3]{\\frac{1}{\\beta-\\gamma}}$ and parameter $\\delta=\\frac{\\beta}{\\beta+\\gamma}$. Forward simulation of the problem is performed via a 4th-order Runge-Kutta method. \n",
    "This example makes use of the following file:\n",
    "- $\\texttt{USACA47.035.txt}$ that contains the El-Centro earthquake ground motion time-series, downloaded from the Center for Engineering Strong Motion Data."
   ]
  },
  {
   "cell_type": "markdown",
   "metadata": {},
   "source": [
    "# Part 1\n",
    "\n",
    "You are provided with the $\\texttt{boucwen}$ function in the script $\\texttt{model.py}$. This function runs the Bouc-Wen model of hysterisis for the El-centro earthquake ground motion excitation. This funtion returns the maximum displacement $z(t)$ of the system.\n",
    "\n",
    "Run the model for the nominal set of parameters $k=1.0$, $r_{0}=2.5$, $\\delta=0.9$, and print the output of the function."
   ]
  },
  {
   "cell_type": "code",
   "execution_count": null,
   "metadata": {},
   "outputs": [],
   "source": [
    "##Solution\n",
    "from model import *\n",
    "\n",
    "max_disp=boucwen([1.0, 2.5, 0.9])\n"
   ]
  },
  {
   "cell_type": "markdown",
   "metadata": {},
   "source": [
    "# Part 2\n",
    "\n",
    "Run the Bouc-Wen model for the same set of parameters, using the $\\texttt{RunModel}$ module of $\\texttt{UQpy}$. To this end, you need to complete function $\\texttt{boucwen}$\\_$\\texttt{runmodel}$  in the script $\\texttt{model.py}$. The function should accept as input argument an ndarray of $\\texttt{shape}$=(n, 3)) that will contain $n$ sets of  parameters and return a list with the corresponding responses."
   ]
  },
  {
   "cell_type": "markdown",
   "metadata": {},
   "source": [
    "### Step 1\n",
    "\n",
    "Import $\\texttt{RunModel}$ from $\\texttt{UQpy.RunModel}$ module."
   ]
  },
  {
   "cell_type": "code",
   "execution_count": null,
   "metadata": {},
   "outputs": [],
   "source": [
    "# Solution\n",
    "from UQpy.RunModel import RunModel"
   ]
  },
  {
   "cell_type": "markdown",
   "metadata": {},
   "source": [
    "### Step 2\n",
    "\n",
    "Instantiate a $\\texttt{RunModel}$ object: \n",
    "- Define $\\texttt{model.py}$ as the $\\texttt{model}$\\_$\\texttt{script}$ attribute.\n",
    "- Define $\\texttt{boucwen}$\\_$\\texttt{runmodel}$ as the $\\texttt{model}$\\_$\\texttt{object}$\\_$\\texttt{name}$ attribute."
   ]
  },
  {
   "cell_type": "code",
   "execution_count": null,
   "metadata": {},
   "outputs": [],
   "source": [
    "#Solution\n",
    "from UQpy.RunModel import RunModel\n",
    "from UQpy.SampleMethods import MCS\n",
    "from UQpy.Distributions import Normal, Uniform, Lognormal, JointInd\n",
    "\n",
    "##Run the model\n",
    "boucwen = RunModel(model_script='model.py', model_object_name='boucwen_runmodel', \n",
    "                           var_names=['k', 'r0', 'delta'])"
   ]
  },
  {
   "cell_type": "markdown",
   "metadata": {},
   "source": [
    "### Step 3\n",
    "\n",
    "Generate an ndarray containing the set of parameters (the shape of the array should be (1, 3)).\n",
    "\n"
   ]
  },
  {
   "cell_type": "code",
   "execution_count": null,
   "metadata": {},
   "outputs": [],
   "source": [
    "# Solution\n",
    "samples=np.array([1.0, 2.5, 0.9]).reshape(1,-1)"
   ]
  },
  {
   "cell_type": "markdown",
   "metadata": {},
   "source": [
    "### Step 4\n",
    "\n",
    "Run the model for this set of parameters using the $\\texttt{run}$ method of the $\\texttt{RunModel}$ object. Print the response (i.e.,  $\\texttt{qoi}$\\_$\\texttt{list}$ attribute of the  $\\texttt{RunModel}$ object)."
   ]
  },
  {
   "cell_type": "code",
   "execution_count": null,
   "metadata": {},
   "outputs": [],
   "source": [
    "boucwen.run(samples=samples)\n",
    "print(boucwen.qoi_list)"
   ]
  },
  {
   "cell_type": "markdown",
   "metadata": {},
   "source": [
    "## Activities\n",
    "\n",
    "Run the Bou-Wen model with $\\texttt{RunModel}$ for three different sets of parameters."
   ]
  },
  {
   "cell_type": "code",
   "execution_count": null,
   "metadata": {},
   "outputs": [],
   "source": [
    "#Solution\n",
    "samples=np.array([[1.0, 2.5, 0.9],\n",
    "                 [1.1, 2.6, 0.95],\n",
    "                 [0.9, 2.4, 0.83],]).reshape(-1,3)\n",
    "boucwen.run(samples=samples)"
   ]
  },
  {
   "cell_type": "markdown",
   "metadata": {},
   "source": [
    "# Exercise 2 \n",
    "\n",
    "\n",
    "## Linking a third-party software computational model with $\\texttt{UQpy}$\n",
    "\n",
    "\n",
    "The model consists of an identation test performed on a cuboid sample with the aid an elastic contact sphere. \n",
    "\n",
    "\n",
    "<img src=\"IndentationTest.png\" width=\"500\"> \n",
    "\n",
    "\n",
    "The example is adopted from  https://sfepy.org/doc-devel/examples/linear_elasticity/elastic_contact_sphere.html. The analysis is performed using the Python package $\\texttt{sfepy}$. Visualization can be performed with Paraview. Even though the problem is composed by linear materials and described by small deformations, it is highly non-linear due to the contact boundary conditions between the sphere and the cube. \n",
    "\n",
    "The system is parameterized by two parameters: (i) the elastic sphere stiffness parameter $\\texttt{k}$ for positive penetration and, (ii) the force $\\texttt{f0}$ for zero penetration. The response of the model consists of the maximum absolute value of the displacement field at the identation point. "
   ]
  },
  {
   "cell_type": "markdown",
   "metadata": {},
   "source": [
    "# Part 1\n",
    "\n",
    "You are provided with the following scripts:\n",
    "\n",
    "1. $\\texttt{elastic}$\\_$\\texttt{contact}$\\_$\\texttt{sphere.py}$  script which runs the contact sphere model model.\n",
    "2. $\\texttt{simple.py}$ script that contains the $\\texttt{sfepy}$ solver that executes the identation test.\n",
    "\n",
    "$\\texttt{simple.py}$ script and the $\\texttt{elastic}$\\_$\\texttt{contact}$\\_$\\texttt{sphere.py}$ script must be in the same directory in order for the solver to be executed.\n",
    "\n",
    "- Run the elastic sphere contact sphere model for the nominal parameters $\\texttt{k}=10^5$, $\\texttt{f0}=0.01$. You can type the following command in a cell:\n",
    "\n",
    "    - $\\texttt{%run}$  $\\texttt{simple.py}$ $\\texttt{elastic}$_ $\\texttt{contact}$_ $\\texttt{sphere.py}$. This will create the output file  \n",
    "    $\\texttt{cube}$_ $\\texttt{medium}$_$\\texttt{hexa.vtk}$ that contains the displacement field. \n",
    "    \n",
    "    \n",
    "- Read the output file by typing the following commands in a cell:\n",
    "\n",
    "    - $\\texttt{import meshio}$\n",
    "    - $\\texttt{mesh=meshio.read('cube}$\\_$\\texttt{medium}$\\_$\\texttt{hexa.vtk'})$\n",
    "    - $\\texttt{disp=mesh.point}$\\_$\\texttt{data['u']}$\n",
    "    - $\\texttt{y =max(abs(disp[:, 2])))}$\n",
    "    \n",
    "- Print the response"
   ]
  },
  {
   "cell_type": "code",
   "execution_count": null,
   "metadata": {},
   "outputs": [],
   "source": [
    "# Solution\n",
    "%run simple.py elastic_contact_sphere_initial.py\n",
    "\n",
    "import meshio\n",
    "mesh=meshio.read('cube_medium_hexa.vtk')\n",
    "disp=mesh.point_data['u']\n",
    "y=max(abs(disp[:,2]))\n",
    "\n",
    "print(y)"
   ]
  },
  {
   "cell_type": "markdown",
   "metadata": {},
   "source": [
    "# Part 2\n",
    "\n",
    "Run the contact sphere model for the nominal set of parameters using the $\\texttt{RunModel}$ of $\\texttt{UQpy}$. You are provided with the additional files:\n",
    "\n",
    "1. $\\texttt{PythonAsThirdParty.py}$ \n",
    "2. $\\texttt{process}$\\_$\\texttt{3rd}$\\_$\\texttt{party}$\\_$\\texttt{output.py}$ \n"
   ]
  },
  {
   "cell_type": "markdown",
   "metadata": {},
   "source": [
    "\n",
    "### Step 1\n",
    "\n",
    "File $\\texttt{elastic}$\\_$\\texttt{contact}$\\_$\\texttt{sphere.py}$ will serve as the $\\texttt{input}$\\_$\\texttt{template}$ file in this example. Your first task is to modify it to accept values for the parameters $\\texttt{k}$ and $\\texttt{f0}$: Replace their values with angle brackets $<,>$ with the variable names inside. The variable names are provided in the $\\texttt{var}$\\_$\\texttt{names}$ list, i.e., $\\texttt{<stifness>}$ and $\\texttt{<force>}$."
   ]
  },
  {
   "cell_type": "code",
   "execution_count": null,
   "metadata": {},
   "outputs": [],
   "source": [
    "# Solution --> modify the file\n",
    "from __future__ import absolute_import\n",
    "from sfepy import data_dir\n",
    "from sfepy.mechanics.matcoefs import stiffness_from_lame\n",
    "\n",
    "#filename_mesh = data_dir + '/meshes/3d/cube_medium_hexa.mesh'\n",
    "filename_mesh = 'cube_medium_hexa.mesh'\n",
    "\n",
    "k = <k> # Elastic sphere stiffness for positive penetration. 1e5\n",
    "f0 = <f0> # Force at zero penetration. 1e-2"
   ]
  },
  {
   "cell_type": "markdown",
   "metadata": {},
   "source": [
    "\n",
    "### Step 2\n",
    "\n",
    "File $\\texttt{PythonAsThirdParty.py}$ serves as $\\texttt{model}$\\_$\\texttt{script}$. This file contains the function $\\texttt{run}$\\_$\\texttt{model}$ that runs the $\\texttt{Python}$ $\\texttt{sfepy}$ model as a third-party software. You have to complete this function  to perform the following operations:\n",
    "\n",
    "- The function $\\texttt{run}$\\_$\\texttt{model}$ should take a single input argument $\\texttt{n}$ (the python index of the run). The function should not return anything. \n",
    "\n",
    "- Import  $\\texttt{Python}$ library  $\\texttt{os}$. \n",
    "\n",
    "- Copy the $\\texttt{input}$\\_$\\texttt{template}$ script that corresponds to run $\\texttt{n}$,  (i.e.,$\\texttt{elastic}$\\_$\\texttt{contact}$\\_$\\texttt{sphere}$\\_$\\texttt{n.py'}$) from  directory $\\texttt{../Model}$\\_$\\texttt{Runs/run}$\\_$\\texttt{n/InputFiles/}$ to the current working directory  $\\texttt{../Model}$\\_$\\texttt{Runs/run}$\\_$\\texttt{n/}$.\n",
    "\n",
    "- Run the model using  $\\texttt{os.system(command})$ where\n",
    "\n",
    "$\\texttt{command = 'python3 simple.py}$ \n",
    "$\\texttt{elastic}$\\_$\\texttt{contact}$\\_$\\texttt{sphere}$\\_$\\texttt{n.py'}$.\n",
    "\n",
    "- Copy the generated file $\\texttt{cube}$\\_$\\texttt{medium}$\\_$\\texttt{hexa}$\\_$\\texttt{index.vtk}$ from the current working directory  $\\texttt{../Model}$\\_$\\texttt{Runs/run}$\\_$\\texttt{n/}$ to $\\texttt{../Model}$\\_$\\texttt{Runs/run}$\\_$\\texttt{n/OutputFiles/}$ directory. "
   ]
  },
  {
   "cell_type": "code",
   "execution_count": null,
   "metadata": {},
   "outputs": [],
   "source": [
    "# Solution --> modify the file\n",
    "def run_model(index):\n",
    "    name_='elastic_contact_sphere_'+str(index)+'.py'\n",
    "\n",
    "    current_dir = os.getcwd()\n",
    "\n",
    "    initial_path = current_dir+'/InputFiles/'+name_\n",
    "    final_path = current_dir+'/'+name_\n",
    "\n",
    "    copy_input_command='cp ' +initial_path+' '+final_path\n",
    "    print(copy_input_command)\n",
    "    os.system(copy_input_command) \n",
    "\n",
    "    run_model_command='./simple.py '+name_\n",
    "    os.system(run_model_command)\n",
    "\n",
    "    output_path=os.path.join(os.path.sep, current_dir, 'OutputFiles')\n",
    "    os.makedirs(output_path,exist_ok=True)\n",
    "\n",
    "    copy_output_command='cp ./cube_medium_hexa.vtk ./OutputFiles/cube_medium_hexa_'+str(index)+'.vtk'\n",
    "    os.system(copy_output_command)"
   ]
  },
  {
   "cell_type": "markdown",
   "metadata": {},
   "source": [
    "\n",
    "### Step 3\n",
    "\n",
    "File $\\texttt{process}$\\_$\\texttt{3rd}$\\_$\\texttt{party}$\\_$\\texttt{output.py}$ serves as  $\\texttt{output}$\\_$\\texttt{script}$. Complete function $\\texttt{read}$\\_$\\texttt{output}$ to take a single input argument  $\\texttt{n}$, that is the python index of the run. The function should reads the generated $\\texttt{.vtk}$ file and returns the response."
   ]
  },
  {
   "cell_type": "code",
   "execution_count": null,
   "metadata": {},
   "outputs": [],
   "source": [
    "# Solution --> modify the file\n",
    "def read_output(index):\n",
    "    mesh = meshio.read('./OutputFiles/cube_medium_hexa_'+str(index)+'.vtk')\n",
    "    point_displacements=mesh.point_data['u']\n",
    "    z_disp=list()\n",
    "    for disp in point_displacements:\n",
    "        z_disp.append(disp[2])\n",
    "    return min(z_disp)"
   ]
  },
  {
   "cell_type": "markdown",
   "metadata": {},
   "source": [
    "\n",
    "### Step 4\n",
    "\n",
    "- Instantiate a $\\texttt{RunModel}$ object:  \n",
    "- Generate an ndarray containing the set of parameters (the shape of the array should be (1, 2)).\n",
    "- Run the model for this set of parameters using the $\\texttt{run}$ method of the $\\texttt{RunModel}$ object.\n",
    "- Print the response (i.e.,  $\\texttt{qoi}$\\_$\\texttt{list}$ attribute of the  $\\texttt{RunModel}$ object)."
   ]
  },
  {
   "cell_type": "code",
   "execution_count": null,
   "metadata": {},
   "outputs": [],
   "source": [
    "#Solution\n",
    "import numpy as np\n",
    "import matplotlib.pyplot as plt\n",
    "from UQpy.RunModel import RunModel\n",
    "\n",
    "samples=np.array([1e4,2e-2]).reshape(1,-1)\n",
    "\n",
    "model_serial_third_party=RunModel(samples=samples,  model_script='PythonAsThirdParty_model.py',\n",
    "    input_template='elastic_contact_sphere.py', var_names=['k', 'f0'],\n",
    "    output_script='process_3rd_party_output.py', model_object_name='read_output')\n",
    "\n",
    "print(model_serial_third_party.qoi_list)"
   ]
  },
  {
   "cell_type": "markdown",
   "metadata": {},
   "source": [
    "# Exercise 3 \n",
    "\n",
    "\n",
    "## Forward propagation of uncertainties using $\\texttt{UQpy}$\n",
    "\n",
    "In this exercise you have to propagate uncertainties through the Bouc-Wen computational model. Randomness is assumed in the systems' parameters [$k, r_{0}, \\delta$]. The parameters are considered to be independent, with the following probability distribution models:\n",
    "\n",
    "- Parameter $k$ is assumed to be uniformly distributed, i.e., $k \\sim \\mathcal{U}(0.5, 2.5)$. \n",
    "- Parameter $r_{0}$ is assumed to be normally distributed, i.e., $r_0 \\sim \\mathcal{N}(2.5, 0.01)$. \n",
    "- Parameter $\\delta$ is assumed to be normally distributed, i.e.,  $\\delta \\sim\\mathcal{N}(0.9, 0.04)$.\n",
    "\n",
    "Realizations of the input uncertain parameters are obtained via Monte Carlo sampling."
   ]
  },
  {
   "cell_type": "markdown",
   "metadata": {},
   "source": [
    "## Part 1\n",
    "\n",
    "Create a distribution object for each parameter (random variable)."
   ]
  },
  {
   "cell_type": "markdown",
   "metadata": {},
   "source": [
    "### Step 1\n",
    "\n",
    "Import the necessary probability models i.e., $\\texttt{Uniform}$ and $\\texttt{Normal}$  from the $\\texttt{Distributions}$ module of $\\texttt{UQpy}$."
   ]
  },
  {
   "cell_type": "code",
   "execution_count": null,
   "metadata": {},
   "outputs": [],
   "source": [
    "# Solution\n",
    "from UQpy.Distributions import Uniform, Normal"
   ]
  },
  {
   "cell_type": "markdown",
   "metadata": {},
   "source": [
    "### Step 2\n",
    "\n",
    "For each random variable create a $\\texttt{Distribution}$ object. Define a joint distribution object from the independent distributions. To this end you will also need: \n",
    "\n",
    "- Import $\\texttt{JointInd}$ class from $\\texttt{Distributions}$ module of $\\texttt{UQpy}$.\n",
    "\n",
    "- Create a $\\texttt{JointInd}$  object by providing a list of the marginal distributions."
   ]
  },
  {
   "cell_type": "code",
   "execution_count": null,
   "metadata": {},
   "outputs": [],
   "source": [
    "#Solution\n",
    "from UQpy.Distributions import JointInd\n",
    "dist1=Uniform(0.5,2.0)\n",
    "dist2=Normal(2.5, 0.01)\n",
    "dist3=Normal(0.9, 0.04)\n",
    "joint_distribution=JointInd(marginals=[dist1,dist2,dist3])"
   ]
  },
  {
   "cell_type": "markdown",
   "metadata": {},
   "source": [
    "## Part 2\n",
    "\n",
    "Create a $\\texttt{MCS}$ object.\n",
    "\n",
    "- Import  $\\texttt{MCS}$ class from the $\\texttt{SampleMethods}$ module of $\\texttt{UQpy}$.\n",
    "\n",
    "- Create $\\texttt{MCS}$ object, i.e., provide the $\\texttt{JointInd}$ as the $\\texttt{dist}$\\_$\\texttt{object}$ and define the number of samples: $\\texttt{nsamples}=1000$."
   ]
  },
  {
   "cell_type": "code",
   "execution_count": null,
   "metadata": {},
   "outputs": [],
   "source": [
    "#Solution\n",
    "from UQpy.SampleMethods import MCS\n",
    "x = MCS(dist_object=joint_distribution, nsamples=1000)\n",
    "samples = x.samples"
   ]
  },
  {
   "cell_type": "markdown",
   "metadata": {},
   "source": [
    "## Part 3\n",
    "\n",
    "Forward propagation of the undertainties through the Bouc-Wen computational model.\n",
    "\n",
    "- Import $\\texttt{RunModel}$ from $\\texttt{UQpy.RunModel}$ module.\n",
    "- Instantiate a $\\texttt{RunModel}$ object\n",
    "- Run the model for the sets of parameters using the $\\texttt{run}$ method of the $\\texttt{RunModel}$ object.\n",
    "- Plot the histogram of the response."
   ]
  },
  {
   "cell_type": "code",
   "execution_count": null,
   "metadata": {},
   "outputs": [],
   "source": [
    "#Solution\n",
    "from UQpy.RunModel import RunModel\n",
    "\n",
    "##Run the model\n",
    "boucwen = RunModel(model_script='model.py', model_object_name='boucwen_runmodel', \n",
    "                           var_names=['k', 'r0', 'delta'])\n",
    "boucwen.run(samples=samples)\n",
    "qoi = boucwen.qoi_list\n",
    "\n",
    "\n",
    "import matplotlib.pyplot as plt\n",
    "\n",
    "# An \"interface\" to matplotlib.axes.Axes.hist() method\n",
    "n, bins, patches = plt.hist(x=boucwen.qoi_list, bins='auto')\n",
    "plt.grid(axis='y', alpha=0.75)\n",
    "plt.xlabel('Response')\n",
    "plt.ylabel('Frequency')"
   ]
  },
  {
   "cell_type": "markdown",
   "metadata": {},
   "source": [
    "### Activities\n",
    "\n",
    "\n",
    "Propagate the input parameter uncertainties through the third-party computational contact sphere model. In the indentation test model, randomness is assumed in the systems' parameters $\\texttt{k} \\sim \\mathcal{U}(0.01, 0.1)$ and $\\texttt{f0} \\sim \\mathcal{N}(10^5, 2\\times 10^3)$. The parameters are considered to be independent. Generate 5 realizations of the joint input distribution using Latin hypercube sampling and print the corresponding responses."
   ]
  },
  {
   "cell_type": "code",
   "execution_count": null,
   "metadata": {},
   "outputs": [],
   "source": [
    "#Solution\n",
    "import numpy as np\n",
    "import matplotlib.pyplot as plt\n",
    "from UQpy.RunModel import RunModel\n",
    "from UQpy.SampleMethods import LHS\n",
    "from UQpy.Distributions import Uniform, Normal\n",
    "\n",
    "dist1 = Uniform(loc=0.01, scale=0.89)\n",
    "dist2 = Normal(loc=1e5, scale=2*1e3)\n",
    "\n",
    "x = LHS(dist_object=[dist1,dist2], nsamples=5, verbose=True)\n",
    "samples = x.samples\n",
    "\n",
    "model_serial_third_party=RunModel(samples=samples,  model_script='PythonAsThirdParty_model.py',\n",
    "    input_template='elastic_contact_sphere.py', var_names=['k', 'f0'],\n",
    "    output_script='process_3rd_party_output.py', model_object_name='read_output')\n",
    "\n",
    "print(model_serial_third_party.qoi_list)"
   ]
  }
 ],
 "metadata": {
  "celltoolbar": "Slideshow",
  "kernelspec": {
   "display_name": "Python 3",
   "language": "python",
   "name": "python3"
  },
  "language_info": {
   "codemirror_mode": {
    "name": "ipython",
    "version": 3
   },
   "file_extension": ".py",
   "mimetype": "text/x-python",
   "name": "python",
   "nbconvert_exporter": "python",
   "pygments_lexer": "ipython3",
   "version": "3.8.5"
  }
 },
 "nbformat": 4,
 "nbformat_minor": 5
}
