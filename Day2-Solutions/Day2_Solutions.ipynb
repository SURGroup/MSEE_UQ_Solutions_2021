{
 "cells": [
  {
   "cell_type": "markdown",
   "metadata": {
    "slideshow": {
     "slide_type": "slide"
    }
   },
   "source": [
    "# MSEE UQ short course:  The $\\texttt{UQpy}$ library\n",
    "\n",
    "Application of surrogate modeling using the $\\texttt{UQpy}$ module $\\texttt{Surrogates}$.\n",
    "\n",
    "Detailed instructions on how to use this module can be found in the $\\texttt{UQpy}$ documentation.\n",
    "\n",
    "https://uqpyproject.readthedocs.io/en/latest/surrogates_doc.html"
   ]
  },
  {
   "cell_type": "markdown",
   "metadata": {},
   "source": [
    "# Exercise 1\n",
    "\n",
    "### Polynomial Chaos\n",
    "\n",
    "Build a PCE surrogate for 1-D Bouc-Wen $\\texttt{Python}$ model. In this case, randomness is assumed in the systems' parameter $r_{0}$ which is assumed to be uniformly distributed in the range [0.5, 3.5]. The response of interest is the maximum displacement $z(t)$ of the system."
   ]
  },
  {
   "cell_type": "markdown",
   "metadata": {},
   "source": [
    "### Step 1\n",
    "\n",
    "Create a distribution object for the random variable (see Day 1 activities)."
   ]
  },
  {
   "cell_type": "code",
   "execution_count": null,
   "metadata": {},
   "outputs": [],
   "source": [
    "# Solution\n",
    "from UQpy.Distributions import Uniform\n",
    "\n",
    "distribution=Uniform(0.5, 3.0)"
   ]
  },
  {
   "cell_type": "markdown",
   "metadata": {},
   "source": [
    "### Step 2\n",
    "\n",
    "Create a $\\texttt{MCS}$ object (see Day 1 activities):\n",
    "- generate 30 realizations of $r_0$ that will serve as our training input set.\n",
    "- generate 20 realizations of $r_0$ that will serve as our validation input set."
   ]
  },
  {
   "cell_type": "code",
   "execution_count": null,
   "metadata": {},
   "outputs": [],
   "source": [
    "# Solution\n",
    "from UQpy.SampleMethods import MCS\n",
    "\n",
    "training_sampling = MCS(dist_object=distribution, nsamples=30)\n",
    "training_samples=training_sampling.samples\n",
    "\n",
    "validation_sampling = MCS(dist_object=distribution, nsamples=20)\n",
    "validation_samples = validation_sampling.samples"
   ]
  },
  {
   "cell_type": "markdown",
   "metadata": {},
   "source": [
    "### Step 3\n",
    "\n",
    "Run the 1-D Bouc-Wen computational model using $\\texttt{RunModel}$ module of $\\texttt{UQpy}$ (see Day 1 activities):\n",
    "- for the training input set.\n",
    "- for the validation input set."
   ]
  },
  {
   "cell_type": "code",
   "execution_count": null,
   "metadata": {},
   "outputs": [],
   "source": [
    "# Solution\n",
    "from UQpy.RunModel import RunModel\n",
    "from UQpy.Distributions import Uniform\n",
    "from UQpy.SampleMethods import MCS\n",
    "import numpy as np\n",
    "import matplotlib.pyplot as plt\n",
    "from UQpy.Surrogates import *\n",
    "\n",
    "boucwen = RunModel(model_script='model_1D.py', model_object_name='boucwen_runmodel', var_names=['r0'])\n",
    "boucwen.run(samples=training_samples)\n",
    "\n",
    "qoi= boucwen.qoi_list\n",
    "\n",
    "maximum_displacement = boucwen.qoi_list[:30]\n",
    "\n",
    "boucwen.run(samples=validation_samples)\n",
    "\n",
    "maximum_displacement_validation=boucwen.qoi_list[-20:]"
   ]
  },
  {
   "cell_type": "markdown",
   "metadata": {},
   "source": [
    "### Step 4\n",
    "\n",
    "Create the PCE surrogate to approximate the response function (i.e., maximum displacement $\\max(z(t))$ of the system. Compute the PCE coefficients using least square regression. Compute the validation error."
   ]
  },
  {
   "cell_type": "markdown",
   "metadata": {},
   "source": [
    "### Step 4.1:\n",
    "\n",
    "Import libraries  $\\texttt{PCE}$, $\\texttt{Polynomials}$ and $\\texttt{PolyChaosLstsq}$, from $\\texttt{UQpy.Surrogates}$ module.\n"
   ]
  },
  {
   "cell_type": "code",
   "execution_count": null,
   "metadata": {},
   "outputs": [],
   "source": [
    "# Solution\n",
    "from UQpy.Surrogates import PCE, PolyChaosLstsq, Polynomials"
   ]
  },
  {
   "cell_type": "markdown",
   "metadata": {},
   "source": [
    "### Step 4.2:\n",
    "\n",
    "Define a 'polynomials' object using the $\\texttt{Polynomials}$ class. Provide as input to the class the distribution object of the random variable, and the maximum  PCE order p=1."
   ]
  },
  {
   "cell_type": "code",
   "execution_count": null,
   "metadata": {},
   "outputs": [],
   "source": [
    "# Solution\n",
    "polys = Polynomials(dist_object=distribution, degree=1)"
   ]
  },
  {
   "cell_type": "markdown",
   "metadata": {},
   "source": [
    "### Step 4.3:\n",
    "\n",
    "Define a least squares regression object using the $\\texttt{PolyChaosLstsq}$ class. Provide as input to the class the polynomials object you created in the previous step. "
   ]
  },
  {
   "cell_type": "code",
   "execution_count": null,
   "metadata": {},
   "outputs": [],
   "source": [
    "# Solution\n",
    "lstsq = PolyChaosLstsq(poly_object=polys)"
   ]
  },
  {
   "cell_type": "markdown",
   "metadata": {},
   "source": [
    "### Step 4.4:\n",
    "\n",
    "Define a pce object using the $\\texttt{PCE}$ class. Provide as input method the regression object created in the previous step."
   ]
  },
  {
   "cell_type": "code",
   "execution_count": null,
   "metadata": {},
   "outputs": [],
   "source": [
    "# Solution\n",
    "pce = PCE(method=lstsq)"
   ]
  },
  {
   "cell_type": "markdown",
   "metadata": {},
   "source": [
    "### Step 4.5:\n",
    "\n",
    "Calculate the coefficients using the $\\texttt{fit}$ method of the $\\texttt{PCE}$ object. Provide the training data set (input-output pairs)."
   ]
  },
  {
   "cell_type": "code",
   "execution_count": null,
   "metadata": {},
   "outputs": [],
   "source": [
    "# Solution\n",
    "pce.fit(training_samples,np.array(maximum_displacement).reshape(30,1))"
   ]
  },
  {
   "cell_type": "markdown",
   "metadata": {},
   "source": [
    "### Step 4.6:\n",
    "\n",
    "Predic the response for the validation input set using the $\\texttt{predict}$ method of the $\\texttt{PCE}$ object."
   ]
  },
  {
   "cell_type": "code",
   "execution_count": null,
   "metadata": {},
   "outputs": [],
   "source": [
    "# Solution\n",
    "prediction_sampling=MCS(dist_object=[distribution], nsamples=100,  verbose=True)\n",
    "prediction_results=pce.predict(prediction_sampling.samples)"
   ]
  },
  {
   "cell_type": "markdown",
   "metadata": {},
   "source": [
    "### Step 4.7:\n",
    "\n",
    "Compute the validation error:\n",
    "- Import the $\\texttt{ErrorEstimation}$ class from $\\texttt{UQpy.Surrogates}$ module.\n",
    "- Compute the validation error using the $\\texttt{validation}$ method."
   ]
  },
  {
   "cell_type": "code",
   "execution_count": null,
   "metadata": {},
   "outputs": [],
   "source": [
    "# Solution\n",
    "from UQpy.Surrogates import ErrorEstimation\n",
    "error = ErrorEstimation(surr_object=pce)\n",
    "print('Error from least squares regression is: ', error.validation(validation_sampling.samples, np.array(maximum_displacement_validation)))"
   ]
  },
  {
   "cell_type": "markdown",
   "metadata": {},
   "source": [
    "### Activities\n",
    "\n",
    "1. Build the PCE surrogate for the 1-D Bouc-Wen model for:\n",
    "    - For 100 training data.\n",
    "    - maximum PCE order p=4.\n",
    "    - Ridge regression methods.\n",
    "    For this case, estimate the first two moments (mean and variance) of the PCE surrogate.\n",
    "    \n",
    "    \n",
    "2. Build a PCE surrogate for the 2-D contact sphere model. In this case, randomness is assumed in the systems' parameter $\\texttt{k}\\sim\\mathcal{N}(10^5, 2\\times 10^4)$ and $\\texttt{f0}\\sim \\mathcal{U}(0.01, 0.1)$. The response of interest is the maximum absolute value of the displacement field at the identation point."
   ]
  },
  {
   "cell_type": "code",
   "execution_count": null,
   "metadata": {},
   "outputs": [],
   "source": [
    "# Activity 1 - Solution\n",
    "from UQpy.RunModel import RunModel\n",
    "from UQpy.Distributions import Uniform\n",
    "from UQpy.SampleMethods import MCS\n",
    "import numpy as np\n",
    "import matplotlib.pyplot as plt\n",
    "from UQpy.Surrogates import *\n",
    "from UQpy.SampleMethods import MCS\n",
    "from UQpy.Distributions import Uniform\n",
    "\n",
    "distribution=Uniform(0.5, 3.0)\n",
    "\n",
    "\n",
    "training_sampling = MCS(dist_object=distribution, nsamples=100)\n",
    "training_samples=training_sampling.samples\n",
    "\n",
    "boucwen = RunModel(model_script='model_1D.py', model_object_name='boucwen_runmodel', var_names=['r0'])\n",
    "boucwen.run(samples=training_samples)\n",
    "\n",
    "maximum_displacement = boucwen.qoi_list[:100]\n",
    "\n",
    "from UQpy.Surrogates import PCE, PolyChaosRidge, Polynomials\n",
    "\n",
    "polys = Polynomials(dist_object=distribution, degree=4)\n",
    "lstsq = PolyChaosRidge(poly_object=polys)\n",
    "pce = PCE(method=lstsq)\n",
    "\n",
    "pce.fit(training_samples,np.array(maximum_displacement).reshape(100,1))\n",
    "\n",
    "prediction_sampling=MCS(dist_object=[distribution], nsamples=100,  verbose=True)\n",
    "prediction_results=pce.predict(prediction_sampling.samples)\n",
    "\n",
    "from UQpy.Surrogates import MomentEstimation\n",
    "print('Moments from Ridge regression :', MomentEstimation(surr_object=pce).get())"
   ]
  },
  {
   "cell_type": "code",
   "execution_count": null,
   "metadata": {},
   "outputs": [],
   "source": [
    "# Activity 2 - Solution\n",
    "from UQpy.RunModel import RunModel\n",
    "from UQpy.Distributions import Uniform, Normal, JointInd\n",
    "from UQpy.SampleMethods import MCS\n",
    "import numpy as np\n",
    "import matplotlib.pyplot as plt\n",
    "from UQpy.Surrogates import *\n",
    "from UQpy.SampleMethods import MCS\n",
    "distribution1=Normal(1e5, 2*1e4)\n",
    "distribution2=Uniform(0.01, 0.89)\n",
    "\n",
    "\n",
    "training_sampling = MCS(dist_object=JointInd(marginals=[distribution1, distribution2]), nsamples=20)\n",
    "training_samples=training_sampling.samples\n",
    "\n",
    "model_serial_third_party=RunModel(samples=training_samples,  model_script='PythonAsThirdParty_model_2D.py',\n",
    "    input_template='elastic_contact_sphere.py', var_names=['k', 'f0'],\n",
    "    output_script='process_3rd_party_output.py', model_object_name='read_output')\n",
    "\n",
    "maximum_displacement = model_serial_third_party.qoi_list[:20]\n",
    "\n",
    "from UQpy.Surrogates import PCE, PolyChaosRidge, Polynomials\n",
    "\n",
    "polys = Polynomials(dist_object=JointInd(marginals=[distribution1, distribution2]), degree=2)\n",
    "lstsq = PolyChaosRidge(poly_object=polys)\n",
    "pce = PCE(method=lstsq)\n",
    "\n",
    "pce.fit(training_samples,np.array(maximum_displacement).reshape(20,1))"
   ]
  },
  {
   "cell_type": "markdown",
   "metadata": {
    "slideshow": {
     "slide_type": "slide"
    }
   },
   "source": [
    "# Exercise 2 \n",
    "\n",
    "\n",
    "### Kriging (Gaussian process)\n",
    "\n",
    "\n",
    "Build a Kriging surrogate for 1-D contact sphere model. In the indentation test model randomness is assumed in the parameter $k$ which is assumed to follow a Lognormal distribution, with the parameters of the underlying Gaussian distribution being: $\\mu$ = 1e5 and standard deviation $\\sigma=2e4$. The parameters of the lognormal distribution in this case are $s=0.19804$ and $scale=98058.0675$ ($loc$=0.0). Build a Kriging surrogate to approximate the response function of the maximum displacement at the identation point. "
   ]
  },
  {
   "cell_type": "markdown",
   "metadata": {},
   "source": [
    "### Step 1\n",
    "\n",
    "Create a distribution object for the random variable (see Day 1 activities)."
   ]
  },
  {
   "cell_type": "code",
   "execution_count": null,
   "metadata": {},
   "outputs": [],
   "source": [
    "# Solution\n",
    "from UQpy.Distributions import Lognormal\n",
    "dist1 = Lognormal(s=0.19804, scale=98058.0675, loc=0.0) "
   ]
  },
  {
   "cell_type": "markdown",
   "metadata": {},
   "source": [
    "### Step 2\n",
    "\n",
    "Create a $\\texttt{LHS}$ object (see Day 1 activities):\n",
    "- generate 20 realizations of $r_0$ that will serve as our training input set.\n",
    "- generate 30 realizations of $r_0$ that will serve as our validation input set."
   ]
  },
  {
   "cell_type": "code",
   "execution_count": null,
   "metadata": {},
   "outputs": [],
   "source": [
    "# Solution\n",
    "from UQpy.SampleMethods import LHS\n",
    "training_sampling = LHS(dist_object=dist1, nsamples=20)\n",
    "training_samples = training_sampling.samples.reshape(20,1)\n",
    "\n",
    "validation_sampling = LHS(dist_object=dist1, nsamples=30)\n",
    "validation_samples = validation_sampling.samples.reshape(30,1)"
   ]
  },
  {
   "cell_type": "markdown",
   "metadata": {},
   "source": [
    "### Step 3\n",
    "\n",
    "Run the 1-D contact sphere model using $\\texttt{RunModel}$ module of $\\texttt{UQpy}$ (see Day 1 activities):\n",
    "- for the training input set.\n",
    "- for the validation input set."
   ]
  },
  {
   "cell_type": "code",
   "execution_count": null,
   "metadata": {},
   "outputs": [],
   "source": [
    "# Solution\n",
    "from UQpy.RunModel import RunModel\n",
    "model_serial_third_party=RunModel(model_script='PythonAsThirdParty_model.py', model_object_name='run_model',\n",
    "    input_template='elastic_contact_sphere_1D.py', var_names=['k'],\n",
    "    output_script='process_3rd_party_output.py')\n",
    "\n",
    "model_serial_third_party.run(samples=training_samples)\n",
    "qoi = model_serial_third_party.qoi_list\n",
    "\n",
    "maximum_displacement=list(map(abs, qoi[:20]))\n",
    "\n",
    "model_serial_third_party_validation=RunModel(model_script='PythonAsThirdParty_model.py', model_object_name='run_model',\n",
    "    input_template='elastic_contact_sphere_1D.py', var_names=['k'],\n",
    "    output_script='process_3rd_party_output.py')\n",
    "\n",
    "model_serial_third_party_validation.run(samples=validation_samples)\n",
    "maximum_displacement_validation=list(map(abs, qoi[:30]))"
   ]
  },
  {
   "cell_type": "markdown",
   "metadata": {},
   "source": [
    "### Step 4\n",
    "\n",
    "Create the Kriging surrogate to approximate the response function (i.e., maximum displacement at the identation point). "
   ]
  },
  {
   "cell_type": "markdown",
   "metadata": {},
   "source": [
    "### Step 4.1:\n",
    "\n",
    "Import library  $\\texttt{Kriging}$ from $\\texttt{UQpy.Surrogates}$ module."
   ]
  },
  {
   "cell_type": "code",
   "execution_count": null,
   "metadata": {},
   "outputs": [],
   "source": [
    "# Solution\n",
    "from UQpy.Surrogates import Kriging"
   ]
  },
  {
   "cell_type": "markdown",
   "metadata": {},
   "source": [
    "### Step 4.2:\n",
    "\n",
    "Instantiate a $\\texttt{Kriging}$ object. Select:\n",
    "\n",
    "1. Linear regression model to evaluate the basis functions and their coefficients.\n",
    "2. Gaussian correlation model to define similarity between samples.\n",
    "3. 20 times the Maximum Likelihood optimization problem to be solved with a random starting point."
   ]
  },
  {
   "cell_type": "code",
   "execution_count": null,
   "metadata": {},
   "outputs": [],
   "source": [
    "# Solution\n",
    "K = Kriging(reg_model='Linear', corr_model='Gaussian', nopt=20, corr_model_params=[1])"
   ]
  },
  {
   "cell_type": "markdown",
   "metadata": {},
   "source": [
    "### Step 4.3:\n",
    "\n",
    "Calculate the hyperparameters using the $\\texttt{fit}$ method of the $\\texttt{Kriging}$ object. Provide the training data set (input-output pairs). Print the regression coefficients."
   ]
  },
  {
   "cell_type": "code",
   "execution_count": null,
   "metadata": {},
   "outputs": [],
   "source": [
    "# Solution\n",
    "K.fit(samples=training_samples, values=maximum_displacement)\n",
    "print(K.beta)"
   ]
  },
  {
   "cell_type": "markdown",
   "metadata": {},
   "source": [
    "### Step 4.4:\n",
    "\n",
    "Predic the response for the validation input set using the $\\texttt{predict}$ method of the $\\texttt{Kriging}$ object. Print the variance of the Kriging prediction."
   ]
  },
  {
   "cell_type": "code",
   "execution_count": null,
   "metadata": {},
   "outputs": [],
   "source": [
    "# Solution\n",
    "from UQpy.SampleMethods import MCS\n",
    "prediction_sampling=MCS(dist_object=[dist1], nsamples=1000,  verbose=True)\n",
    "prediction_results=K.predict(prediction_sampling.samples)\n",
    "\n",
    "print(K.err_var)"
   ]
  },
  {
   "cell_type": "markdown",
   "metadata": {},
   "source": [
    "## Activities\n",
    "\n",
    "1. Build the Kriging surrogate for the 1-D contact sphere model for:\n",
    "    - For 100 training data.\n",
    "    - Quadratic regression model\n",
    "    - Exponential correlation function\n",
    "    Compare the results.\n",
    "\n",
    "2. Build a Kriging surrogate for 1-D Boucwen model (Exercise 1). In this case,  $r_{0}\\sim \\mathcal{U}(0.5, 3.5)$. Compare the results obtained with the PCE surrogate."
   ]
  },
  {
   "cell_type": "code",
   "execution_count": null,
   "metadata": {},
   "outputs": [],
   "source": [
    "# Solution\n",
    "training_sampling = LHS(dist_object=dist1, nsamples=100)\n",
    "training_samples = training_sampling.samples\n",
    "\n",
    "model_serial_third_party=RunModel(model_script='PythonAsThirdParty_model.py',\n",
    "    input_template='elastic_contact_sphere_1D.py', var_names=['k'],\n",
    "    output_script='process_3rd_party_output.py')\n",
    "\n",
    "model_serial_third_party.run(samples=training_samples)\n",
    "qoi = model_serial_third_party.qoi_list\n",
    "\n",
    "maximum_displacement=qoi[:100]\n",
    "\n",
    "K1 = Kriging(reg_model='Quadratic', corr_model='Exponential', nopt=20, corr_model_params=[1])\n",
    "K1.fit(samples=samples, values=maximum_displacement)"
   ]
  },
  {
   "cell_type": "code",
   "execution_count": null,
   "metadata": {},
   "outputs": [],
   "source": [
    "from UQpy.Distributions import Uniform\n",
    "from UQpy.SampleMethods import MCS\n",
    "from UQpy.RunModel import RunModel\n",
    "from UQpy.Surrogates import Kriging\n",
    "\n",
    "distribution=Uniform(0.5, 3.0)\n",
    "\n",
    "training_sampling = MCS(dist_object=distribution, nsamples=30)\n",
    "training_samples=training_sampling.samples\n",
    "\n",
    "boucwen = RunModel(model_script='model_1D.py', model_object_name='boucwen_runmodel', var_names=['r0'])\n",
    "boucwen.run(samples=training_samples)\n",
    "\n",
    "maximum_displacement=boucwen.qoi_list[:30]\n",
    "\n",
    "K2 = Kriging(reg_model='Linear', corr_model='Gaussian', nopt=20, corr_model_params=[1])\n",
    "K2.fit(samples=training_samples, values=maximum_displacement)\n"
   ]
  }
 ],
 "metadata": {
  "celltoolbar": "Slideshow",
  "kernelspec": {
   "display_name": "Python 3",
   "language": "python",
   "name": "python3"
  },
  "language_info": {
   "codemirror_mode": {
    "name": "ipython",
    "version": 3
   },
   "file_extension": ".py",
   "mimetype": "text/x-python",
   "name": "python",
   "nbconvert_exporter": "python",
   "pygments_lexer": "ipython3",
   "version": "3.8.5"
  }
 },
 "nbformat": 4,
 "nbformat_minor": 5
}
