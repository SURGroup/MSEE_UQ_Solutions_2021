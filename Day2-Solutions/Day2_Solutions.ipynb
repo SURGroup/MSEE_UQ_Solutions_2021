{
 "cells": [
  {
   "cell_type": "markdown",
   "id": "570710e8",
   "metadata": {
    "slideshow": {
     "slide_type": "slide"
    }
   },
   "source": [
    "# MSEE UQ short course:  The $\\texttt{UQpy}$ library\n",
    "\n",
    "Application of surrogate modeling using the $\\texttt{UQpy}$ module $\\texttt{Surrogates}$.\n",
    "\n",
    "Detailed instructions on how to use this module can be found in the $\\texttt{UQpy}$ documentation.\n",
    "\n",
    "https://uqpyproject.readthedocs.io/en/latest/surrogates_doc.html"
   ]
  },
  {
   "cell_type": "markdown",
   "id": "278bf990",
   "metadata": {},
   "source": [
    "# Exercise 1\n",
    "\n",
    "### Polynomial Chaos\n",
    "\n",
    "Build a PCE surrogate for 1-D Bouc-Wen $\\texttt{Python}$ model. In this case, randomness is assumed in the systems' parameter $r_{0}$ which is assumed to be uniformly distributed in the range [0.5, 3.5]. The response of interest is the maximum displacement $z(t)$ of the system."
   ]
  },
  {
   "cell_type": "markdown",
   "id": "576a16bf",
   "metadata": {},
   "source": [
    "### Step 1\n",
    "\n",
    "Create a distribution object for the random variable (see Day 1 activities)."
   ]
  },
  {
   "cell_type": "code",
   "execution_count": null,
   "id": "ca7e0f4f",
   "metadata": {},
   "outputs": [],
   "source": [
    "# Solution\n",
    "from UQpy.Distributions import Uniform\n",
    "\n",
    "distribution=Uniform(0.5, 3.0)"
   ]
  },
  {
   "cell_type": "markdown",
   "id": "ffbf8853",
   "metadata": {},
   "source": [
    "### Step 2\n",
    "\n",
    "Create a $\\texttt{MCS}$ object (see Day 1 activities):\n",
    "- generate 30 realizations of $r_0$ that will serve as our training input set.\n",
    "- generate 20 realizations of $r_0$ that will serve as our validation input set."
   ]
  },
  {
   "cell_type": "code",
   "execution_count": null,
   "id": "39d42d3b",
   "metadata": {},
   "outputs": [],
   "source": [
    "# Solution\n",
    "from UQpy.SampleMethods import MCS\n",
    "\n",
    "training_sampling = MCS(dist_object=distribution, nsamples=30)\n",
    "training_samples=training_sampling.samples\n",
    "\n",
    "validation_sampling = MCS(dist_object=distribution, nsamples=20)\n",
    "validation_samples = validation_sampling.samples"
   ]
  },
  {
   "cell_type": "markdown",
   "id": "a44c6c05",
   "metadata": {},
   "source": [
    "### Step 3\n",
    "\n",
    "Run the 1-D Bouc-Wen computational model using $\\texttt{RunModel}$ module of $\\texttt{UQpy}$ (see Day 1 activities):\n",
    "- for the training input set.\n",
    "- for the validation input set."
   ]
  },
  {
   "cell_type": "code",
   "execution_count": null,
   "id": "b690f7d7",
   "metadata": {},
   "outputs": [],
   "source": [
    "# Solution\n",
    "from UQpy.RunModel import RunModel\n",
    "from UQpy.Distributions import Uniform\n",
    "from UQpy.SampleMethods import MCS\n",
    "import numpy as np\n",
    "import matplotlib.pyplot as plt\n",
    "from UQpy.Surrogates import *\n",
    "\n",
    "boucwen = RunModel(model_script='model_1D.py', model_object_name='boucwen_runmodel', var_names=['r0'])\n",
    "boucwen.run(samples=training_samples)\n",
    "\n",
    "qoi= boucwen.qoi_list\n",
    "\n",
    "maximum_displacement = boucwen.qoi_list[:30]\n",
    "\n",
    "boucwen.run(samples=validation_samples)\n",
    "\n",
    "maximum_displacement_validation=boucwen.qoi_list[-20:]"
   ]
  },
  {
   "cell_type": "markdown",
   "id": "5c27fe73",
   "metadata": {},
   "source": [
    "### Step 4\n",
    "\n",
    "Create the PCE surrogate to approximate the response function (i.e., maximum displacement $\\max(z(t))$ of the system. Compute the PCE coefficients using least square regression. Compute the validation error."
   ]
  },
  {
   "cell_type": "markdown",
   "id": "dc5be860",
   "metadata": {},
   "source": [
    "### Step 4.1:\n",
    "\n",
    "Import libraries  $\\texttt{PCE}$, $\\texttt{Polynomials}$ and $\\texttt{PolyChaosLstsq}$, from $\\texttt{UQpy.Surrogates}$ module.\n"
   ]
  },
  {
   "cell_type": "code",
   "execution_count": null,
   "id": "7ef438e7",
   "metadata": {},
   "outputs": [],
   "source": [
    "# Solution\n",
    "from UQpy.Surrogates import PCE, PolyChaosLstsq, Polynomials"
   ]
  },
  {
   "cell_type": "markdown",
   "id": "ce8f7dda",
   "metadata": {},
   "source": [
    "### Step 4.2:\n",
    "\n",
    "Define a 'polynomials' object using the $\\texttt{Polynomials}$ class. Provide as input to the class the distribution object of the random variable, and the maximum  PCE order p=1."
   ]
  },
  {
   "cell_type": "code",
   "execution_count": null,
   "id": "1939bbb6",
   "metadata": {},
   "outputs": [],
   "source": [
    "# Solution\n",
    "polys = Polynomials(dist_object=distribution, degree=1)"
   ]
  },
  {
   "cell_type": "markdown",
   "id": "8c711311",
   "metadata": {},
   "source": [
    "### Step 4.3:\n",
    "\n",
    "Define a least squares regression object using the $\\texttt{PolyChaosLstsq}$ class. Provide as input to the class the polynomials object you created in the previous step. "
   ]
  },
  {
   "cell_type": "code",
   "execution_count": null,
   "id": "a30cb4a1",
   "metadata": {},
   "outputs": [],
   "source": [
    "# Solution\n",
    "lstsq = PolyChaosLstsq(poly_object=polys)"
   ]
  },
  {
   "cell_type": "markdown",
   "id": "ff14122e",
   "metadata": {},
   "source": [
    "### Step 4.4:\n",
    "\n",
    "Define a pce object using the $\\texttt{PCE}$ class. Provide as input method the regression object created in the previous step."
   ]
  },
  {
   "cell_type": "code",
   "execution_count": null,
   "id": "7352b793",
   "metadata": {},
   "outputs": [],
   "source": [
    "# Solution\n",
    "pce = PCE(method=lstsq)"
   ]
  },
  {
   "cell_type": "markdown",
   "id": "877ab433",
   "metadata": {},
   "source": [
    "### Step 4.5:\n",
    "\n",
    "Calculate the coefficients using the $\\texttt{fit}$ method of the $\\texttt{PCE}$ object. Provide the training data set (input-output pairs)."
   ]
  },
  {
   "cell_type": "code",
   "execution_count": null,
   "id": "9cf06c8d",
   "metadata": {},
   "outputs": [],
   "source": [
    "# Solution\n",
    "pce.fit(training_samples,np.array(maximum_displacement).reshape(30,1))"
   ]
  },
  {
   "cell_type": "markdown",
   "id": "99e63cb3",
   "metadata": {},
   "source": [
    "### Step 4.6:\n",
    "\n",
    "Predic the response for the validation input set using the $\\texttt{predict}$ method of the $\\texttt{PCE}$ object."
   ]
  },
  {
   "cell_type": "code",
   "execution_count": null,
   "id": "8e7a4f22",
   "metadata": {},
   "outputs": [],
   "source": [
    "# Solution\n",
    "prediction_sampling=MCS(dist_object=[distribution], nsamples=100,  verbose=True)\n",
    "prediction_results=pce.predict(prediction_sampling.samples)"
   ]
  },
  {
   "cell_type": "markdown",
   "id": "17d74631",
   "metadata": {},
   "source": [
    "### Step 4.7:\n",
    "\n",
    "Compute the validation error:\n",
    "- Import the $\\texttt{ErrorEstimation}$ class from $\\texttt{UQpy.Surrogates}$ module.\n",
    "- Compute the validation error using the $\\texttt{validation}$ method."
   ]
  },
  {
   "cell_type": "code",
   "execution_count": null,
   "id": "d9f84695",
   "metadata": {},
   "outputs": [],
   "source": [
    "# Solution\n",
    "from UQpy.Surrogates import ErrorEstimation\n",
    "error = ErrorEstimation(surr_object=pce)\n",
    "print('Error from least squares regression is: ', error.validation(validation_sampling.samples, np.array(maximum_displacement_validation)))"
   ]
  },
  {
   "cell_type": "markdown",
   "id": "ebe0b13b",
   "metadata": {},
   "source": [
    "### Activities\n",
    "\n",
    "1. Build the PCE surrogate for the 1-D Bouc-Wen model for:\n",
    "    - For 100 training data.\n",
    "    - maximum PCE order p=4.\n",
    "    - Ridge regression methods.\n",
    "    For this case, estimate the first two moments (mean and variance) of the PCE surrogate.\n",
    "    \n",
    "    \n",
    "2. Build a PCE surrogate for the 2-D contact sphere model. In this case, randomness is assumed in the systems' parameter $\\texttt{k}\\sim\\mathcal{N}(10^5, 2\\times 10^4)$ and $\\texttt{f0}\\sim \\mathcal{U}(0.01, 0.1)$. The response of interest is the maximum absolute value of the displacement field at the identation point."
   ]
  },
  {
   "cell_type": "code",
   "execution_count": null,
   "id": "c7263c47",
   "metadata": {},
   "outputs": [],
   "source": [
    "# Activity 1 - Solution\n",
    "from UQpy.RunModel import RunModel\n",
    "from UQpy.Distributions import Uniform\n",
    "from UQpy.SampleMethods import MCS\n",
    "import numpy as np\n",
    "import matplotlib.pyplot as plt\n",
    "from UQpy.Surrogates import *\n",
    "from UQpy.SampleMethods import MCS\n",
    "from UQpy.Distributions import Uniform\n",
    "\n",
    "distribution=Uniform(0.5, 3.0)\n",
    "\n",
    "\n",
    "training_sampling = MCS(dist_object=distribution, nsamples=100)\n",
    "training_samples=training_sampling.samples\n",
    "\n",
    "boucwen = RunModel(model_script='model_1D.py', model_object_name='boucwen_runmodel', var_names=['r0'])\n",
    "boucwen.run(samples=training_samples)\n",
    "\n",
    "maximum_displacement = boucwen.qoi_list[:100]\n",
    "\n",
    "from UQpy.Surrogates import PCE, PolyChaosRidge, Polynomials\n",
    "\n",
    "polys = Polynomials(dist_object=distribution, degree=4)\n",
    "lstsq = PolyChaosRidge(poly_object=polys)\n",
    "pce = PCE(method=lstsq)\n",
    "\n",
    "pce.fit(training_samples,np.array(maximum_displacement).reshape(100,1))\n",
    "\n",
    "prediction_sampling=MCS(dist_object=[distribution], nsamples=100,  verbose=True)\n",
    "prediction_results=pce.predict(prediction_sampling.samples)\n",
    "\n",
    "from UQpy.Surrogates import MomentEstimation\n",
    "print('Moments from Ridge regression :', MomentEstimation(surr_object=pce).get())"
   ]
  },
  {
   "cell_type": "code",
   "execution_count": null,
   "id": "413b1ab7",
   "metadata": {},
   "outputs": [],
   "source": [
    "# Activity 2 - Solution\n",
    "from UQpy.RunModel import RunModel\n",
    "from UQpy.Distributions import Uniform, Normal, JointInd\n",
    "from UQpy.SampleMethods import MCS\n",
    "import numpy as np\n",
    "import matplotlib.pyplot as plt\n",
    "from UQpy.Surrogates import *\n",
    "from UQpy.SampleMethods import MCS\n",
    "distribution1=Normal(1e5, 2*1e4)\n",
    "distribution2=Uniform(0.01, 0.89)\n",
    "\n",
    "\n",
    "training_sampling = MCS(dist_object=JointInd(marginals=[distribution1, distribution2]), nsamples=20)\n",
    "training_samples=training_sampling.samples\n",
    "\n",
    "model_serial_third_party=RunModel(samples=training_samples,  model_script='PythonAsThirdParty_model_2D.py',\n",
    "    input_template='elastic_contact_sphere.py', var_names=['k', 'f0'],\n",
    "    output_script='process_3rd_party_output.py', model_object_name='read_output')\n",
    "\n",
    "maximum_displacement = model_serial_third_party.qoi_list[:20]\n",
    "\n",
    "from UQpy.Surrogates import PCE, PolyChaosRidge, Polynomials\n",
    "\n",
    "polys = Polynomials(dist_object=JointInd(marginals=[distribution1, distribution2]), degree=2)\n",
    "lstsq = PolyChaosRidge(poly_object=polys)\n",
    "pce = PCE(method=lstsq)\n",
    "\n",
    "pce.fit(training_samples,np.array(maximum_displacement).reshape(20,1))"
   ]
  },
  {
   "cell_type": "markdown",
   "id": "0fb6e681",
   "metadata": {
    "slideshow": {
     "slide_type": "slide"
    }
   },
   "source": [
    "# Exercise 2 \n",
    "\n",
    "\n",
    "### Kriging (Gaussian process)\n",
    "\n",
    "\n",
    "Build a Kriging surrogate for 1-D contact sphere model. In the indentation test model randomness is assumed in the parameter $k$ which is assumed to follow a Lognormal distribution, with the parameters of the underlying Gaussian distribution being: $\\mu$ = 1e5 and standard deviation $\\sigma=2e4$. The parameters of the lognormal distribution in this case are $s=0.19804$ and $scale=98058.0675$ ($loc$=0.0). Build a Kriging surrogate to approximate the response function of the maximum displacement at the identation point. "
   ]
  },
  {
   "cell_type": "markdown",
   "id": "712b3cad",
   "metadata": {},
   "source": [
    "### Step 1\n",
    "\n",
    "Create a distribution object for the random variable (see Day 1 activities)."
   ]
  },
  {
   "cell_type": "code",
   "execution_count": 1,
   "id": "979132bb",
   "metadata": {},
   "outputs": [],
   "source": [
    "# Solution\n",
    "from UQpy.Distributions import Lognormal\n",
    "dist1 = Lognormal(s=0.19804, scale=98058.0675, loc=0.0) "
   ]
  },
  {
   "cell_type": "markdown",
   "id": "fbb021e8",
   "metadata": {},
   "source": [
    "### Step 2\n",
    "\n",
    "Create a $\\texttt{LHS}$ object (see Day 1 activities):\n",
    "- generate 20 realizations of $r_0$ that will serve as our training input set.\n",
    "- generate 30 realizations of $r_0$ that will serve as our validation input set."
   ]
  },
  {
   "cell_type": "code",
   "execution_count": 2,
   "id": "3d85905d",
   "metadata": {},
   "outputs": [],
   "source": [
    "# Solution\n",
    "from UQpy.SampleMethods import LHS\n",
    "training_sampling = LHS(dist_object=dist1, nsamples=20)\n",
    "training_samples = training_sampling.samples.reshape(20,1)\n",
    "\n",
    "validation_sampling = LHS(dist_object=dist1, nsamples=30)\n",
    "validation_samples = validation_sampling.samples.reshape(30,1)"
   ]
  },
  {
   "cell_type": "markdown",
   "id": "82ca96bd",
   "metadata": {},
   "source": [
    "### Step 3\n",
    "\n",
    "Run the 1-D contact sphere model using $\\texttt{RunModel}$ module of $\\texttt{UQpy}$ (see Day 1 activities):\n",
    "- for the training input set.\n",
    "- for the validation input set."
   ]
  },
  {
   "cell_type": "code",
   "execution_count": 3,
   "id": "0bc95f72",
   "metadata": {},
   "outputs": [],
   "source": [
    "# Solution\n",
    "from UQpy.RunModel import RunModel\n",
    "model_serial_third_party=RunModel(model_script='PythonAsThirdParty_model.py', model_object_name='run_model',\n",
    "    input_template='elastic_contact_sphere_1D.py', var_names=['k'],\n",
    "    output_script='process_3rd_party_output.py')\n",
    "\n",
    "model_serial_third_party.run(samples=training_samples)\n",
    "qoi = model_serial_third_party.qoi_list\n",
    "\n",
    "maximum_displacement=list(map(abs, qoi[:20]))\n",
    "\n",
    "model_serial_third_party_validation=RunModel(model_script='PythonAsThirdParty_model.py', model_object_name='run_model',\n",
    "    input_template='elastic_contact_sphere_1D.py', var_names=['k'],\n",
    "    output_script='process_3rd_party_output.py')\n",
    "\n",
    "model_serial_third_party_validation.run(samples=validation_samples)\n",
    "maximum_displacement_validation=list(map(abs, qoi[:30]))"
   ]
  },
  {
   "cell_type": "markdown",
   "id": "a5475404",
   "metadata": {},
   "source": [
    "### Step 4\n",
    "\n",
    "Create the Kriging surrogate to approximate the response function (i.e., maximum displacement at the identation point). "
   ]
  },
  {
   "cell_type": "markdown",
   "id": "1e4fd278",
   "metadata": {},
   "source": [
    "### Step 4.1:\n",
    "\n",
    "Import library  $\\texttt{Kriging}$ from $\\texttt{UQpy.Surrogates}$ module."
   ]
  },
  {
   "cell_type": "code",
   "execution_count": 4,
   "id": "5d95cb95",
   "metadata": {},
   "outputs": [],
   "source": [
    "# Solution\n",
    "from UQpy.Surrogates import Kriging"
   ]
  },
  {
   "cell_type": "markdown",
   "id": "5b19acb7",
   "metadata": {},
   "source": [
    "### Step 4.2:\n",
    "\n",
    "Instantiate a $\\texttt{Kriging}$ object. Select:\n",
    "\n",
    "1. Linear regression model to evaluate the basis functions and their coefficients.\n",
    "2. Gaussian correlation model to define similarity between samples.\n",
    "3. 20 times the Maximum Likelihood optimization problem to be solved with a random starting point."
   ]
  },
  {
   "cell_type": "code",
   "execution_count": 5,
   "id": "ea2a3403",
   "metadata": {},
   "outputs": [],
   "source": [
    "# Solution\n",
    "K = Kriging(reg_model='Linear', corr_model='Gaussian', nopt=20, corr_model_params=[1])"
   ]
  },
  {
   "cell_type": "markdown",
   "id": "ac849f07",
   "metadata": {},
   "source": [
    "### Step 4.3:\n",
    "\n",
    "Calculate the hyperparameters using the $\\texttt{fit}$ method of the $\\texttt{Kriging}$ object. Provide the training data set (input-output pairs). Print the regression coefficients."
   ]
  },
  {
   "cell_type": "code",
   "execution_count": 6,
   "id": "7539bbb4",
   "metadata": {},
   "outputs": [
    {
     "name": "stdout",
     "output_type": "stream",
     "text": [
      "[[0.05959993]\n",
      " [0.12781454]]\n"
     ]
    }
   ],
   "source": [
    "# Solution\n",
    "K.fit(samples=training_samples, values=maximum_displacement)\n",
    "print(K.beta)"
   ]
  },
  {
   "cell_type": "markdown",
   "id": "bcb60cdd",
   "metadata": {},
   "source": [
    "### Step 4.4:\n",
    "\n",
    "Predic the response for the validation input set using the $\\texttt{predict}$ method of the $\\texttt{Kriging}$ object. Print the variance of the Kriging prediction."
   ]
  },
  {
   "cell_type": "code",
   "execution_count": 7,
   "id": "63fbcdf5",
   "metadata": {},
   "outputs": [
    {
     "name": "stdout",
     "output_type": "stream",
     "text": [
      "UQpy: Running Monte Carlo Sampling.\n",
      "UQpy: Monte Carlo Sampling Complete.\n",
      "[1.00241701]\n"
     ]
    }
   ],
   "source": [
    "# Solution\n",
    "from UQpy.SampleMethods import MCS\n",
    "prediction_sampling=MCS(dist_object=[dist1], nsamples=1000,  verbose=True)\n",
    "prediction_results=K.predict(prediction_sampling.samples)\n",
    "\n",
    "print(K.err_var)"
   ]
  },
  {
   "cell_type": "markdown",
   "id": "1fa830dd",
   "metadata": {},
   "source": [
    "## Activities\n",
    "\n",
    "1. Build the Kriging surrogate for the 1-D contact sphere model for:\n",
    "    - For 100 training data.\n",
    "    - Quadratic regression model\n",
    "    - Exponential correlation function\n",
    "    Compare the results.\n",
    "\n",
    "2. Build a Kriging surrogate for 1-D Boucwen model (Exercise 1). In this case,  $r_{0}\\sim \\mathcal{U}(0.5, 3.5)$. Compare the results obtained with the PCE surrogate."
   ]
  },
  {
   "cell_type": "code",
   "execution_count": 8,
   "id": "9841c8e4",
   "metadata": {},
   "outputs": [
    {
     "ename": "ValueError",
     "evalue": "\nUQpy: var_names must have the same length as the number of variables (i.e. len(var_names) = len(samples[0]).\n",
     "output_type": "error",
     "traceback": [
      "\u001b[0;31m---------------------------------------------------------------------------\u001b[0m",
      "\u001b[0;31mValueError\u001b[0m                                Traceback (most recent call last)",
      "\u001b[0;32m<ipython-input-8-00bc4810acd6>\u001b[0m in \u001b[0;36m<module>\u001b[0;34m\u001b[0m\n\u001b[1;32m      7\u001b[0m     output_script='process_3rd_party_output.py')\n\u001b[1;32m      8\u001b[0m \u001b[0;34m\u001b[0m\u001b[0m\n\u001b[0;32m----> 9\u001b[0;31m \u001b[0mmodel_serial_third_party\u001b[0m\u001b[0;34m.\u001b[0m\u001b[0mrun\u001b[0m\u001b[0;34m(\u001b[0m\u001b[0msamples\u001b[0m\u001b[0;34m=\u001b[0m\u001b[0mtraining_samples\u001b[0m\u001b[0;34m)\u001b[0m\u001b[0;34m\u001b[0m\u001b[0;34m\u001b[0m\u001b[0m\n\u001b[0m\u001b[1;32m     10\u001b[0m \u001b[0mqoi\u001b[0m \u001b[0;34m=\u001b[0m \u001b[0mmodel_serial_third_party\u001b[0m\u001b[0;34m.\u001b[0m\u001b[0mqoi_list\u001b[0m\u001b[0;34m\u001b[0m\u001b[0;34m\u001b[0m\u001b[0m\n\u001b[1;32m     11\u001b[0m \u001b[0;34m\u001b[0m\u001b[0m\n",
      "\u001b[0;32m/opt/anaconda3/envs/sfepy/lib/python3.8/site-packages/UQpy/RunModel.py\u001b[0m in \u001b[0;36mrun\u001b[0;34m(self, samples, append_samples)\u001b[0m\n\u001b[1;32m    442\u001b[0m                     \u001b[0;31m# Check to see if self.var_names has the correct length\u001b[0m\u001b[0;34m\u001b[0m\u001b[0;34m\u001b[0m\u001b[0;34m\u001b[0m\u001b[0m\n\u001b[1;32m    443\u001b[0m                     \u001b[0;32mif\u001b[0m \u001b[0mlen\u001b[0m\u001b[0;34m(\u001b[0m\u001b[0mself\u001b[0m\u001b[0;34m.\u001b[0m\u001b[0mvar_names\u001b[0m\u001b[0;34m)\u001b[0m \u001b[0;34m!=\u001b[0m \u001b[0mself\u001b[0m\u001b[0;34m.\u001b[0m\u001b[0mn_vars\u001b[0m\u001b[0;34m:\u001b[0m\u001b[0;34m\u001b[0m\u001b[0;34m\u001b[0m\u001b[0m\n\u001b[0;32m--> 444\u001b[0;31m                         raise ValueError(\"\\nUQpy: var_names must have the same length as the number of variables (i.e. \"\n\u001b[0m\u001b[1;32m    445\u001b[0m                                          \"len(var_names) = len(samples[0]).\\n\")\n\u001b[1;32m    446\u001b[0m                 \u001b[0;32melse\u001b[0m\u001b[0;34m:\u001b[0m\u001b[0;34m\u001b[0m\u001b[0;34m\u001b[0m\u001b[0m\n",
      "\u001b[0;31mValueError\u001b[0m: \nUQpy: var_names must have the same length as the number of variables (i.e. len(var_names) = len(samples[0]).\n"
     ]
    }
   ],
   "source": [
    "# Solution\n",
    "training_sampling = LHS(dist_object=dist1, nsamples=100)\n",
    "training_samples = training_sampling.samples\n",
    "\n",
    "model_serial_third_party=RunModel(model_script='PythonAsThirdParty_model.py',\n",
    "    input_template='elastic_contact_sphere_1D.py', var_names=['k'],\n",
    "    output_script='process_3rd_party_output.py')\n",
    "\n",
    "model_serial_third_party.run(samples=training_samples.reshape(-1,1))\n",
    "qoi = model_serial_third_party.qoi_list\n",
    "\n",
    "maximum_displacement=qoi[:100]\n",
    "\n",
    "K1 = Kriging(reg_model='Quadratic', corr_model='Exponential', nopt=20, corr_model_params=[1])\n",
    "K1.fit(samples=samples, values=maximum_displacement)"
   ]
  },
  {
   "cell_type": "code",
   "execution_count": null,
   "id": "526fb335",
   "metadata": {},
   "outputs": [],
   "source": [
    "from UQpy.Distributions import Uniform\n",
    "from UQpy.SampleMethods import MCS\n",
    "from UQpy.RunModel import RunModel\n",
    "from UQpy.Surrogates import Kriging\n",
    "\n",
    "distribution=Uniform(0.5, 3.0)\n",
    "\n",
    "training_sampling = MCS(dist_object=distribution, nsamples=30)\n",
    "training_samples=training_sampling.samples\n",
    "\n",
    "boucwen = RunModel(model_script='model_1D.py', model_object_name='boucwen_runmodel', var_names=['r0'])\n",
    "boucwen.run(samples=training_samples)\n",
    "\n",
    "maximum_displacement=boucwen.qoi_list[:30]\n",
    "\n",
    "K2 = Kriging(reg_model='Linear', corr_model='Gaussian', nopt=20, corr_model_params=[1])\n",
    "K2.fit(samples=training_samples, values=maximum_displacement)\n"
   ]
  }
 ],
 "metadata": {
  "celltoolbar": "Slideshow",
  "kernelspec": {
   "display_name": "Python 3",
   "language": "python",
   "name": "python3"
  },
  "language_info": {
   "codemirror_mode": {
    "name": "ipython",
    "version": 3
   },
   "file_extension": ".py",
   "mimetype": "text/x-python",
   "name": "python",
   "nbconvert_exporter": "python",
   "pygments_lexer": "ipython3",
   "version": "3.8.8"
  }
 },
 "nbformat": 4,
 "nbformat_minor": 5
}
